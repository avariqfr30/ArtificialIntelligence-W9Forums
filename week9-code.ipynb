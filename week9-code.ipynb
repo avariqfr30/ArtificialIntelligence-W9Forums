{
 "cells": [
  {
   "cell_type": "code",
   "execution_count": 15,
   "metadata": {},
   "outputs": [],
   "source": [
    "import torch\n",
    "import torch.nn as nn\n",
    "import torch.optim as optim\n",
    "from torch.utils.data import DataLoader, TensorDataset, random_split\n",
    "from sklearn.model_selection import train_test_split\n",
    "from sklearn.metrics import accuracy_score, precision_recall_fscore_support\n",
    "from sklearn.feature_extraction.text import CountVectorizer\n",
    "import matplotlib.pyplot as plt\n",
    "import pandas as pd"
   ]
  },
  {
   "cell_type": "code",
   "execution_count": 16,
   "metadata": {},
   "outputs": [
    {
     "name": "stdout",
     "output_type": "stream",
     "text": [
      "Task Specification: Mental Health Chatbot\n"
     ]
    }
   ],
   "source": [
    "# Task specification\n",
    "task_description = \"Mental Health Chatbot\"\n",
    "print(\"Task Specification:\", task_description)"
   ]
  },
  {
   "cell_type": "code",
   "execution_count": 17,
   "metadata": {},
   "outputs": [],
   "source": [
    "# Dataset acquisition\n",
    "# Assuming you have a CSV file with two columns: 'text' and 'label'\n",
    "# You may need to adjust the data loading based on your actual dataset\n",
    "data = pd.read_csv('C:/Users/Avariq Fazlur Rahman/Documents/mental_health_dataset.csv')\n",
    "texts = data['text'].tolist()\n",
    "labels = data['label'].tolist()"
   ]
  },
  {
   "cell_type": "code",
   "execution_count": 18,
   "metadata": {},
   "outputs": [],
   "source": [
    "# Dataset preprocessing\n",
    "# Load dataset\n",
    "# Data cleaning (if necessary)\n",
    "\n",
    "# Split data into train, test, and validation sets\n",
    "train_texts, test_texts, train_labels, test_labels = train_test_split(texts, labels, test_size=0.2, random_state=42)\n",
    "train_texts, val_texts, train_labels, val_labels = train_test_split(train_texts, train_labels, test_size=0.1, random_state=42)"
   ]
  },
  {
   "cell_type": "code",
   "execution_count": 19,
   "metadata": {},
   "outputs": [
    {
     "name": "stdout",
     "output_type": "stream",
     "text": [
      "Dataset Statistics:\n",
      "Train set size: 183\n",
      "Validation set size: 21\n",
      "Test set size: 52\n"
     ]
    }
   ],
   "source": [
    "# Display dataset statistics\n",
    "print(\"Dataset Statistics:\")\n",
    "print(\"Train set size:\", len(train_texts))\n",
    "print(\"Validation set size:\", len(val_texts))\n",
    "print(\"Test set size:\", len(test_texts))"
   ]
  },
  {
   "cell_type": "code",
   "execution_count": 20,
   "metadata": {},
   "outputs": [
    {
     "data": {
      "image/png": "[encoded data removed]",
      "text/plain": [
       "<Figure size 1000x500 with 2 Axes>"
      ]
     },
     "metadata": {},
     "output_type": "display_data"
    }
   ],
   "source": [
    "# Dataset observation\n",
    "# Train and test label distribution graph\n",
    "plt.figure(figsize=(10, 5))\n",
    "plt.subplot(1, 2, 1)\n",
    "plt.title('Train Label Distribution')\n",
    "plt.hist(train_labels, bins=len(set(train_labels)), edgecolor='black')\n",
    "plt.subplot(1, 2, 2)\n",
    "plt.title('Test Label Distribution')\n",
    "plt.hist(test_labels, bins=len(set(test_labels)), edgecolor='black')\n",
    "plt.show()"
   ]
  },
  {
   "cell_type": "code",
   "execution_count": 21,
   "metadata": {},
   "outputs": [],
   "source": [
    "# Feature extraction\n",
    "# Tokenization (convert text to integer sequences)\n",
    "# For simplicity, let's use a basic tokenizer. You may need to use a more advanced tokenizer based on your requirements.\n",
    "vectorizer = CountVectorizer()\n",
    "\n",
    "X_train = vectorizer.fit_transform(train_texts).todense()\n",
    "X_val = vectorizer.transform(val_texts).todense()\n",
    "X_test = vectorizer.transform(test_texts).todense()\n",
    "\n",
    "# Convert Integer Sequences to Tensors\n",
    "y_train = torch.tensor(train_labels)\n",
    "y_val = torch.tensor(val_labels)\n",
    "y_test = torch.tensor(test_labels)\n",
    "\n",
    "train_dataset = TensorDataset(torch.tensor(X_train), y_train)\n",
    "val_dataset = TensorDataset(torch.tensor(X_val), y_val)\n",
    "test_dataset = TensorDataset(torch.tensor(X_test), y_test)"
   ]
  },
  {
   "cell_type": "code",
   "execution_count": 22,
   "metadata": {},
   "outputs": [],
   "source": [
    "# Create DataLoaders\n",
    "train_loader = DataLoader(train_dataset, batch_size=64, shuffle=True)\n",
    "val_loader = DataLoader(val_dataset, batch_size=64, shuffle=False)\n",
    "test_loader = DataLoader(test_dataset, batch_size=64, shuffle=False)"
   ]
  },
  {
   "cell_type": "code",
   "execution_count": 23,
   "metadata": {},
   "outputs": [],
   "source": [
    "# Model selection\n",
    "# Let's use a simple neural network for demonstration\n",
    "class SimpleModel(nn.Module):\n",
    "    def __init__(self, input_size, output_size):\n",
    "        super(SimpleModel, self).__init__()\n",
    "        self.fc = nn.Linear(input_size, output_size)\n",
    "\n",
    "    def forward(self, x):\n",
    "        return self.fc(x)"
   ]
  },
  {
   "cell_type": "code",
   "execution_count": 24,
   "metadata": {},
   "outputs": [],
   "source": [
    "# Model design\n",
    "# Model definition\n",
    "input_size = X_train.shape[1]\n",
    "output_size = len(set(train_labels))\n",
    "model = SimpleModel(input_size, output_size)\n",
    "\n",
    "# Setup the model\n",
    "criterion = nn.CrossEntropyLoss()\n",
    "optimizer = optim.Adam(model.parameters(), lr=0.001)"
   ]
  },
  {
   "cell_type": "code",
   "execution_count": 25,
   "metadata": {},
   "outputs": [],
   "source": [
    "# Model training\n",
    "# Loss Function\n",
    "# Training function\n",
    "# Start training\n",
    "num_epochs = 10\n",
    "\n",
    "def train_model(model, train_loader, val_loader, criterion, optimizer, num_epochs):\n",
    "    train_losses = []\n",
    "    val_losses = []\n",
    "\n",
    "    for epoch in range(num_epochs):\n",
    "        model.train()\n",
    "        train_loss = 0.0\n",
    "\n",
    "        for inputs, labels in train_loader:\n",
    "            optimizer.zero_grad()\n",
    "            outputs = model(inputs.float())\n",
    "            loss = criterion(outputs, labels)\n",
    "            loss.backward()\n",
    "            optimizer.step()\n",
    "            train_loss += loss.item()\n",
    "\n",
    "        avg_train_loss = train_loss / len(train_loader)\n",
    "        train_losses.append(avg_train_loss)\n",
    "\n",
    "        # Validation\n",
    "        model.eval()\n",
    "        val_loss = 0.0\n",
    "\n",
    "        with torch.no_grad():\n",
    "            for inputs, labels in val_loader:\n",
    "                outputs = model(inputs.float())\n",
    "                loss = criterion(outputs, labels)\n",
    "                val_loss += loss.item()\n",
    "\n",
    "        avg_val_loss = val_loss / len(val_loader)\n",
    "        val_losses.append(avg_val_loss)\n",
    "\n",
    "        print(f'Epoch {epoch + 1}/{num_epochs}, '\n",
    "              f'Train Loss: {avg_train_loss:.4f}, '\n",
    "              f'Validation Loss: {avg_val_loss:.4f}')\n",
    "\n",
    "    return train_losses, val_losses"
   ]
  },
  {
   "cell_type": "code",
   "execution_count": 26,
   "metadata": {},
   "outputs": [
    {
     "name": "stdout",
     "output_type": "stream",
     "text": [
      "Epoch 1/10, Train Loss: 0.6931, Validation Loss: 0.7000\n",
      "Epoch 2/10, Train Loss: 0.6803, Validation Loss: 0.6897\n",
      "Epoch 3/10, Train Loss: 0.6688, Validation Loss: 0.6798\n",
      "Epoch 4/10, Train Loss: 0.6583, Validation Loss: 0.6701\n",
      "Epoch 5/10, Train Loss: 0.6476, Validation Loss: 0.6604\n",
      "Epoch 6/10, Train Loss: 0.6369, Validation Loss: 0.6509\n",
      "Epoch 7/10, Train Loss: 0.6255, Validation Loss: 0.6415\n",
      "Epoch 8/10, Train Loss: 0.6153, Validation Loss: 0.6323\n",
      "Epoch 9/10, Train Loss: 0.6057, Validation Loss: 0.6232\n",
      "Epoch 10/10, Train Loss: 0.5951, Validation Loss: 0.6144\n"
     ]
    }
   ],
   "source": [
    "# Start training\n",
    "train_losses, val_losses = train_model(model, train_loader, val_loader, criterion, optimizer, num_epochs)"
   ]
  },
  {
   "cell_type": "code",
   "execution_count": 27,
   "metadata": {},
   "outputs": [
    {
     "data": {
      "image/png": "[encoded data removed]",
      "text/plain": [
       "<Figure size 640x480 with 1 Axes>"
      ]
     },
     "metadata": {},
     "output_type": "display_data"
    }
   ],
   "source": [
    "# Display training and validation loss\n",
    "plt.plot(range(1, num_epochs + 1), train_losses, label='Train Loss')\n",
    "plt.plot(range(1, num_epochs + 1), val_losses, label='Validation Loss')\n",
    "plt.xlabel('Epochs')\n",
    "plt.ylabel('Loss')\n",
    "plt.legend()\n",
    "plt.show()"
   ]
  },
  {
   "cell_type": "code",
   "execution_count": 28,
   "metadata": {},
   "outputs": [
    {
     "name": "stdout",
     "output_type": "stream",
     "text": [
      "Test Accuracy: 0.8462\n"
     ]
    }
   ],
   "source": [
    "# Model evaluation\n",
    "# Evaluate the model on the test set\n",
    "model.eval()\n",
    "test_loss = 0.0\n",
    "correct = 0\n",
    "total = 0\n",
    "\n",
    "with torch.no_grad():\n",
    "    for inputs, labels in test_loader:\n",
    "        outputs = model(inputs.float())\n",
    "        loss = criterion(outputs, labels)\n",
    "        test_loss += loss.item()\n",
    "        _, predicted = torch.max(outputs, 1)\n",
    "        total += labels.size(0)\n",
    "        correct += (predicted == labels).sum().item()\n",
    "\n",
    "accuracy = correct / total\n",
    "print(f'Test Accuracy: {accuracy:.4f}')"
   ]
  },
  {
   "cell_type": "code",
   "execution_count": 29,
   "metadata": {},
   "outputs": [
    {
     "name": "stdout",
     "output_type": "stream",
     "text": [
      "Test Accuracy: 0.8462\n",
      "Precision (Micro): 0.8462\n",
      "Recall (Micro): 0.8462\n",
      "F1 Score (Micro): 0.8462\n",
      "Precision (Weighted): 0.8571\n",
      "Recall (Weighted): 0.8462\n",
      "F1 Score (Weighted): 0.8466\n",
      "\n",
      "Model Performance Table:\n",
      "                 Metric     Value\n",
      "0            Train Loss  0.595124\n",
      "1       Validation Loss  0.614443\n",
      "2         Test Accuracy  0.846154\n",
      "3     Precision (Micro)  0.846154\n",
      "4        Recall (Micro)  0.846154\n",
      "5      F1 Score (Micro)  0.846154\n",
      "6  Precision (Weighted)  0.857094\n",
      "7     Recall (Weighted)  0.846154\n",
      "8   F1 Score (Weighted)  0.846610\n"
     ]
    }
   ],
   "source": [
    "# Model evaluation\n",
    "# Evaluate the model on the test set\n",
    "model.eval()\n",
    "test_loss = 0.0\n",
    "correct = 0\n",
    "total = 0\n",
    "predicted_labels = []\n",
    "\n",
    "with torch.no_grad():\n",
    "    for inputs, labels in test_loader:\n",
    "        outputs = model(inputs.float())\n",
    "        loss = criterion(outputs, labels)\n",
    "        test_loss += loss.item()\n",
    "        _, predicted = torch.max(outputs, 1)\n",
    "        total += labels.size(0)\n",
    "        correct += (predicted == labels).sum().item()\n",
    "        predicted_labels.extend(predicted.numpy())\n",
    "\n",
    "accuracy = correct / total\n",
    "precision, recall, f1, support = precision_recall_fscore_support(test_labels, predicted_labels, average='micro')\n",
    "weighted_precision, weighted_recall, weighted_f1, _ = precision_recall_fscore_support(test_labels, predicted_labels, average='weighted')\n",
    "\n",
    "print(f'Test Accuracy: {accuracy:.4f}')\n",
    "print(f'Precision (Micro): {precision:.4f}')\n",
    "print(f'Recall (Micro): {recall:.4f}')\n",
    "print(f'F1 Score (Micro): {f1:.4f}')\n",
    "print(f'Precision (Weighted): {weighted_precision:.4f}')\n",
    "print(f'Recall (Weighted): {weighted_recall:.4f}')\n",
    "print(f'F1 Score (Weighted): {weighted_f1:.4f}')\n",
    "\n",
    "# Display the model performance table\n",
    "model_performance_table = pd.DataFrame({\n",
    "    'Metric': ['Train Loss', 'Validation Loss', 'Test Accuracy', 'Precision (Micro)', 'Recall (Micro)', 'F1 Score (Micro)', 'Precision (Weighted)', 'Recall (Weighted)', 'F1 Score (Weighted)'],\n",
    "    'Value': [train_losses[-1], val_losses[-1], accuracy, precision, recall, f1, weighted_precision, weighted_recall, weighted_f1]\n",
    "})\n",
    "print(\"\\nModel Performance Table:\")\n",
    "print(model_performance_table)"
   ]
  }
 ],
 "metadata": {
  "kernelspec": {
   "display_name": "Python 3",
   "language": "python",
   "name": "python3"
  },
  "language_info": {
   "codemirror_mode": {
    "name": "ipython",
    "version": 3
   },
   "file_extension": ".py",
   "mimetype": "text/x-python",
   "name": "python",
   "nbconvert_exporter": "python",
   "pygments_lexer": "ipython3",
   "version": "3.11.4"
  }
 },
 "nbformat": 4,
 "nbformat_minor": 2
}
